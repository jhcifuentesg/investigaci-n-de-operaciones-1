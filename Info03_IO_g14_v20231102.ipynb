{
  "nbformat": 4,
  "nbformat_minor": 0,
  "metadata": {
    "colab": {
      "provenance": []
    },
    "kernelspec": {
      "name": "python3",
      "display_name": "Python 3"
    },
    "language_info": {
      "name": "python"
    }
  },
  "cells": [
    {
      "cell_type": "markdown",
      "source": [
        "# Informe 03 IO I 2023-02\n",
        "\n",
        "Diligencia las casillas indicadas.\n",
        "\n",
        "**No modifique la estructura del archivo.**\n",
        "\n",
        "Plantee y resuelva el problema utilizando [CVXPY](https://www.cvxpy.org/).\n",
        "\n",
        "El código debe ser legible e incluir comentarios. Se recomienda utilizar la guía [PEP 8 – Style Guide for Python Code](https://peps.python.org/pep-0008/)."
      ],
      "metadata": {
        "id": "xEXkvK0O0LJe"
      }
    },
    {
      "cell_type": "markdown",
      "source": [
        "# Integrantes del equipo que participaron en la elaboración del informe\n",
        "\n",
        "Escriba, a continuación, los nombres y los apellidos de las personas que hayan **participado de manera significativa** en la elaboración del informe.\n",
        "\n",
        "1.  Jhon Stiven Cifuentes\n",
        "2.  \n",
        "3.\n",
        "4."
      ],
      "metadata": {
        "id": "wnCTxb6i0e6N"
      }
    },
    {
      "cell_type": "markdown",
      "source": [
        "# Objetivo del proyecto\n",
        "\n"
      ],
      "metadata": {
        "id": "9fLgajWc2IYU"
      }
    },
    {
      "cell_type": "markdown",
      "source": [
        "se construira un modelo que maximize la produccion de una panaderia, teniendo en cuanta sus ingredientes y el tiempo de los panaderos.\n",
        "\n"
      ],
      "metadata": {
        "id": "QlB9YC282ngL"
      }
    },
    {
      "cell_type": "markdown",
      "source": [
        "# Importante:\n",
        "Los conjuntos de datos correspondientes a coeficientes de costos, coeficientes técnicos y restricciones deben ser leídos desde urls.\n",
        "\n",
        "Sugerencia: suba los datasets a Googledrive y luego publíquelos como página web. El siguiente enlace le indica cómo hacerlo: [Cómo publicar archivos de Documentos, Hojas de cálculo, Presentaciones y Formularios de Google](https://support.google.com/docs/answer/183965?hl=es-419&co=GENIE.Platform%3DDesktop).\n",
        "\n",
        "Nota: si lo desea puede utilizar otro método para obtener las urls de los conjuntos de datos."
      ],
      "metadata": {
        "id": "Qa8SyhOR6sMB"
      }
    },
    {
      "cell_type": "markdown",
      "source": [
        "# Preparación del ejercicio"
      ],
      "metadata": {
        "id": "nHnpwNeq7ebB"
      }
    },
    {
      "cell_type": "code",
      "source": [
        "# Escriba acá el código para importar las librerías requeridas\n",
        "import numpy as np\n",
        "import pandas as pd\n",
        "import cvxpy as cvx"
      ],
      "metadata": {
        "id": "8obDvj_b78eQ"
      },
      "execution_count": null,
      "outputs": []
    },
    {
      "cell_type": "markdown",
      "source": [
        "# Variables de decisión\n",
        "¿Cuáles son las variables de decisión y cuáles son sus unidades de medida?"
      ],
      "metadata": {
        "id": "QGy27SoU2uW0"
      }
    },
    {
      "cell_type": "markdown",
      "source": [
        "### Las variables de decicion son los diferentes costos de operacion de una panaderia\n",
        "\n",
        "  1.  X1 =  Horas de trabajo panaderos\n",
        "  2.  X2 =  Cantidad de mojes\n",
        "  3.  X3 =  Consumo de energia en produccion (Kj/h)\n",
        "  4.  X4 =  Cantidad de personal en servicio\n",
        "  5.  X5 =  Cantidad de personal en panaderia\n",
        "  6.  X6 =  Horas de trabajo servicio\n",
        "  7.  X7 =  Consumo de energia en servicio (Kj/h)\n",
        "  8.  X8 =  Variacion en la cantidad de harina (Gr)\n",
        "  9.  X9 =  Variacion en la cantidad de azucar (Gr)\n",
        "  10. X10 = Variacion en la cantidad de mantequilla (Gr)"
      ],
      "metadata": {
        "id": "6rsg46CV3ZGk"
      }
    },
    {
      "cell_type": "code",
      "source": [
        "# Escriba acá el código para crear las variables de decisión\n",
        "x = cvx.Variable((10,1), nonneg=True)"
      ],
      "metadata": {
        "id": "lhlFKyIP8lBI"
      },
      "execution_count": null,
      "outputs": []
    },
    {
      "cell_type": "markdown",
      "source": [
        "# Coeficientes de costos\n",
        "\n",
        "Son los costos de produccion de una panaderia tales como:\n",
        "1. C1 = Costos por hora de panadero\n",
        "2. C2 = Costo de un moje de produccion\n",
        "3. C3 = Costo de energia por hora en producion\n",
        "4. C4 = Costo del mesero extra\n",
        "5. C5 = Costo del panadero extra\n",
        "6. C6 = Costo de mesero por hora\n",
        "7. C7 = Costo de energia en servicio por hora\n",
        "8. C8 = Costo del harina por gramo\n",
        "9. C9 = Costo del azucar por gramo\n",
        "10. C10 = Costo del mantequilla por gramo"
      ],
      "metadata": {
        "id": "nfkjPzO11-mQ"
      }
    },
    {
      "cell_type": "markdown",
      "source": [
        "### Escriba acá los coeficientes de costos con sus correspondientes unidades de medida\n"
      ],
      "metadata": {
        "id": "bYxmrgvxG8Qb"
      }
    },
    {
      "cell_type": "code",
      "source": [
        "# Define la URL de la hoja de cálculo con los coeficientes de costos\n",
        "ruta = \"https://docs.google.com/spreadsheets/d/e/2PACX-1vRg-QryinLlyjtFtg-eHsDCstundEw7_YUHu_lznpslQc1z7XeB_xAuSYFPxldZwDMEjodtsyvcdUX0/pub?output=csv\"\n",
        "\n",
        "# Cargar el conjunto de datos a partir de la URL\n",
        "costos_prod = pd.read_csv(ruta, sep=';', decimal=',')\n",
        "\n",
        "# Las siguientes instrucciones permiten verificar que el archivo fue adecuadamente leído y que los datos se encuentran disponibles\n",
        "print(\"Los tipos de datos contenidos en las columnas de costos de produccion son:\\n\", costos_prod.dtypes, \"\\n\")\n",
        "print(\"Los índices de las filas de costos de produccion son:\\n\", costos_prod.index, \"\\n\")\n",
        "print(\"Los índices de las columnas de costos de produccion son:\\n\", costos_prod.columns, \"\\n\")\n",
        "print(\"Los estadísticos de las variables numéricas de costos de produccion son:\\n\", costos_prod.describe(), \"\\n\")"
      ],
      "metadata": {
        "id": "RGx6Z7Fw32fW",
        "colab": {
          "base_uri": "https://localhost:8080/"
        },
        "outputId": "dc65e1d3-43ff-461a-cd98-704e4c0774c0"
      },
      "execution_count": null,
      "outputs": [
        {
          "output_type": "stream",
          "name": "stdout",
          "text": [
            "Los tipos de datos contenidos en las columnas de costos de produccion son:\n",
            " valor    float64\n",
            "dtype: object \n",
            "\n",
            "Los índices de las filas de costos de produccion son:\n",
            " RangeIndex(start=0, stop=10, step=1) \n",
            "\n",
            "Los índices de las columnas de costos de produccion son:\n",
            " Index(['valor'], dtype='object') \n",
            "\n",
            "Los estadísticos de las variables numéricas de costos de produccion son:\n",
            "                valor\n",
            "count      10.000000\n",
            "mean    85872.469697\n",
            "std    170042.572166\n",
            "min         3.580000\n",
            "25%      1047.666669\n",
            "50%     26633.291700\n",
            "75%     72466.625200\n",
            "max    555853.611100 \n",
            "\n"
          ]
        }
      ]
    },
    {
      "cell_type": "markdown",
      "source": [
        "# Función objetivo"
      ],
      "metadata": {
        "id": "RotGELTj4AMV"
      }
    },
    {
      "cell_type": "code",
      "source": [
        "# Escriba acá el código para crear la función\n",
        "objetivo = cvx.Minimize(cvx.sum(cvx.multiply(costos_prod,x)))"
      ],
      "metadata": {
        "id": "7YSu06Ws4EK6"
      },
      "execution_count": null,
      "outputs": []
    },
    {
      "cell_type": "markdown",
      "source": [
        "# Coeficientes técnicos\n",
        "\n",
        "¿Cuáles son los coeficientes técnicos y cuáles son sus unidades de medida?"
      ],
      "metadata": {
        "id": "rRG9t0W-4PD1"
      }
    },
    {
      "cell_type": "markdown",
      "source": [
        "### Escriba acá los coeficientes técnicos con sus correspondientes unidades de medida\n"
      ],
      "metadata": {
        "id": "M7TTJG1jHLEs"
      }
    },
    {
      "cell_type": "code",
      "source": [
        "# Escriba acá el código para cargar los coeficientes técnicos\n",
        "\n",
        "# Guardar en la variable 'ruta_1' la url del conjunto de datos\n",
        "\n",
        "# Con los coeficientes técnicos\n",
        "ruta_1 = \"https://docs.google.com/spreadsheets/d/e/2PACX-1vRXpP8lNqHlDqK4HiqpwDqL14pkP7RS5-MrclEdKV1Xf73o1foVg-b94N9wMP7pFM6xjyB4DX4OIJLQ/pub?output=csv\"\n",
        "\n",
        "# Cargar el conjunto de datos a partir de la URL\n",
        "tec_prod = pd.read_csv(ruta_1, sep=';', decimal=',')\n",
        "\n",
        "# Verificar la lectura del conjunto de datos\n",
        "print(\"Los tipos de datos contenidos en las columnas de coeficientes técnicos son:\\n\", tec_prod.dtypes, \"\\n\")\n",
        "print(\"Los índices de las filas de coeficientes técnicos son:\\n\", tec_prod.index, \"\\n\")\n",
        "print(\"Los índices de las columnas de coeficientes técnicos son:\\n\", tec_prod.columns, \"\\n\")\n",
        "print(\"Los estadísticos de las variables numéricas de coeficientes técnicos son:\\n\", tec_prod.describe(), \"\\n\")"
      ],
      "metadata": {
        "id": "Zs1HUvPk4Wv4",
        "colab": {
          "base_uri": "https://localhost:8080/"
        },
        "outputId": "b073a829-5668-4ce4-e564-19e3b669f270"
      },
      "execution_count": null,
      "outputs": [
        {
          "output_type": "stream",
          "name": "stdout",
          "text": [
            "Los tipos de datos contenidos en las columnas de coeficientes técnicos son:\n",
            " Descrip     object\n",
            "moje 1     float64\n",
            "moje 2     float64\n",
            "moje 3     float64\n",
            "dtype: object \n",
            "\n",
            "Los índices de las filas de coeficientes técnicos son:\n",
            " RangeIndex(start=0, stop=10, step=1) \n",
            "\n",
            "Los índices de las columnas de coeficientes técnicos son:\n",
            " Index(['Descrip', 'moje 1', 'moje 2', 'moje 3'], dtype='object') \n",
            "\n",
            "Los estadísticos de las variables numéricas de coeficientes técnicos son:\n",
            "           moje 1     moje 2     moje 3\n",
            "count   5.000000   5.000000   5.000000\n",
            "mean    6.200000   6.200000   6.200000\n",
            "std     6.058052   6.058052   6.058052\n",
            "min     1.000000   1.000000   1.000000\n",
            "25%     3.000000   3.000000   3.000000\n",
            "50%     3.000000   3.000000   3.000000\n",
            "75%     8.000000   8.000000   8.000000\n",
            "max    16.000000  16.000000  16.000000 \n",
            "\n"
          ]
        }
      ]
    },
    {
      "cell_type": "markdown",
      "source": [
        "# Restricciones\n",
        "\n",
        "¿Cuáles son las restricciones y cuáles son sus unidades de medida?"
      ],
      "metadata": {
        "id": "XlrmY9rM4f2Y"
      }
    },
    {
      "cell_type": "markdown",
      "source": [
        " ## Restricciones de minima operabilidad\n",
        "    Horas de trabajo panaderos: x[0,0] <= rest_2[0,0]\n",
        "    Cantidad de mojes: x[1,0] <= rest_2[1,0]\n",
        "    Consumo de energia en produccion (Kj/h): x[2,0] <= rest_2[2,0]\n",
        "    Cantidad de personal en servicio:\n",
        "    Cantidad de personal en panaderia: x[4,0] <= rest_2[4,0]\n",
        "    Horas de trabajo servicio:\n",
        "    Consumo de energia en servicio (Kj/h): x[6,0] <= rest_2[6,0]\n",
        "    Variacion en la cantidad de harina (Gr): x[7,0] <= rest_2[7,0]\n",
        "    Variacion en la cantidad de azucar (Gr): x[8,0] <= rest_2[8,0]\n",
        "    Variacion en la cantidad de mantequilla (Gr): x[9,0] <= rest_2[9,0]\n",
        "  ## Restricciones de maxima operatividad\n",
        "    Horas de trabajo panaderos: x[0,0] >= rest_2[0,1]\n",
        "    Cantidad de mojes: x[1,0] >= rest_2[1,1]\n",
        "    Consumo de energia en produccion (Kj/h): x[2,0] >= rest_2[2,1]\n",
        "    Cantidad de personal en servicio: x[3,0] >= rest_2[3,1]\n",
        "    Cantidad de personal en panaderia: x[4,0] >= rest_2[4,1]\n",
        "    Horas de trabajo servicio: x[5,0] >= rest_2[5,1]\n",
        "    Consumo de energia en servicio (Kj/h): x[6,0] >= rest_2[6,1]\n",
        "    Variacion en la cantidad de harina (Gr): x[7,0] >= rest_2[7,1]\n",
        "    Variacion en la cantidad de azucar (Gr): x[8,0] >= rest_2[8,1]\n",
        "    Variacion en la cantidad de mantequilla (Gr): x[9,0] >= rest_2[9,1]\n",
        "  ## Restricciones de costo de desicion\n",
        "    x[4,0] + x[0,0] > 18\n",
        "    x[4,0] + x[2,0] > 9"
      ],
      "metadata": {
        "id": "kecH_marHZgn"
      }
    },
    {
      "cell_type": "code",
      "source": [
        "# Guardar en la variable 'ruta_2' la URL del conjunto de datos con las restricciones\n",
        "ruta_2 = \"https://docs.google.com/spreadsheets/d/e/2PACX-1vTR9yKZrM2hAmIfJ4SeNiGAiUp_QuS11YP685iedTMdOrKhU53W6z9_qXwJeWUEJAJvwY8-Lu7ZsTDV/pub?output=csv\"\n",
        "\n",
        "# Cargar el conjunto de datos a partir de la ruta establecida\n",
        "rest_2 = pd.read_csv(ruta_2, sep=';', decimal=',')\n",
        "\n",
        "# Verificar la lectura del conjunto de datos\n",
        "print(\"Los tipos de datos contenidos en las columnas de restricciones son:\\n\", rest_2.dtypes, \"\\n\")\n",
        "print(\"Los índices de las filas de restricciones son:\\n\", rest_2.index, \"\\n\")\n",
        "print(\"Los índices de las columnas de restricciones son:\\n\", rest_2.columns, \"\\n\")\n",
        "print(\"Los estadísticos de las variables numéricas de restricciones son:\\n\", rest_2.describe(), \"\\n\")\n"
      ],
      "metadata": {
        "id": "Ck_QZVgp4iBm",
        "colab": {
          "base_uri": "https://localhost:8080/"
        },
        "outputId": "259f25c7-1f62-4d5c-e9e3-885d5eb3f6c7"
      },
      "execution_count": null,
      "outputs": [
        {
          "output_type": "stream",
          "name": "stdout",
          "text": [
            "Los tipos de datos contenidos en las columnas de restricciones son:\n",
            " Unnamed: 0    object\n",
            "Rest_min       int64\n",
            "Rest_max       int64\n",
            "dtype: object \n",
            "\n",
            "Los índices de las filas de restricciones son:\n",
            " RangeIndex(start=0, stop=10, step=1) \n",
            "\n",
            "Los índices de las columnas de restricciones son:\n",
            " Index(['Unnamed: 0', 'Rest_min', 'Rest_max'], dtype='object') \n",
            "\n",
            "Los estadísticos de las variables numéricas de restricciones son:\n",
            "          Rest_min    Rest_max\n",
            "count   10.000000   10.000000\n",
            "mean    24.200000   27.300000\n",
            "std     32.536475   30.663224\n",
            "min      2.000000    4.000000\n",
            "25%      3.000000    7.250000\n",
            "50%      8.000000   15.500000\n",
            "75%     41.250000   41.500000\n",
            "max    100.000000  100.000000 \n",
            "\n"
          ]
        }
      ]
    },
    {
      "cell_type": "markdown",
      "source": [
        "## Inecuaciones y ecuaciones de las restricciones"
      ],
      "metadata": {
        "id": "Z6EocOcW4kIn"
      }
    },
    {
      "cell_type": "code",
      "source": [
        "# Escriba acá el código para plantear las inecuaciones\n",
        "# y las ecuaciones de las restricciones.\n",
        "# Mínimo diez (10) sin incluir las de no negatividad, enteros y binarios.\n",
        "restricciones = [\n",
        "  # restricciones de minima operabilidad\n",
        "  x[:,0] <= rest_2[:,1],\n",
        "\n",
        "  # restricciones de maxima operatividad\n",
        "  x[:,0] >= rest_2[:,2],\n",
        "\n",
        "  # restricciones de costo de desicion\n",
        "  x[4,0] + x[0,0] > 18,\n",
        "  x[4,0] + x[2,0] > 9\n",
        "]"
      ],
      "metadata": {
        "id": "ad05OTP34-rq",
        "colab": {
          "base_uri": "https://localhost:8080/",
          "height": 442
        },
        "outputId": "fd547b45-dc12-475a-95f9-6e5ca24f61ba"
      },
      "execution_count": null,
      "outputs": [
        {
          "output_type": "error",
          "ename": "InvalidIndexError",
          "evalue": "ignored",
          "traceback": [
            "\u001b[0;31m---------------------------------------------------------------------------\u001b[0m",
            "\u001b[0;31mTypeError\u001b[0m                                 Traceback (most recent call last)",
            "\u001b[0;32m/usr/local/lib/python3.10/dist-packages/pandas/core/indexes/base.py\u001b[0m in \u001b[0;36mget_loc\u001b[0;34m(self, key, method, tolerance)\u001b[0m\n\u001b[1;32m   3801\u001b[0m             \u001b[0;32mtry\u001b[0m\u001b[0;34m:\u001b[0m\u001b[0;34m\u001b[0m\u001b[0;34m\u001b[0m\u001b[0m\n\u001b[0;32m-> 3802\u001b[0;31m                 \u001b[0;32mreturn\u001b[0m \u001b[0mself\u001b[0m\u001b[0;34m.\u001b[0m\u001b[0m_engine\u001b[0m\u001b[0;34m.\u001b[0m\u001b[0mget_loc\u001b[0m\u001b[0;34m(\u001b[0m\u001b[0mcasted_key\u001b[0m\u001b[0;34m)\u001b[0m\u001b[0;34m\u001b[0m\u001b[0;34m\u001b[0m\u001b[0m\n\u001b[0m\u001b[1;32m   3803\u001b[0m             \u001b[0;32mexcept\u001b[0m \u001b[0mKeyError\u001b[0m \u001b[0;32mas\u001b[0m \u001b[0merr\u001b[0m\u001b[0;34m:\u001b[0m\u001b[0;34m\u001b[0m\u001b[0;34m\u001b[0m\u001b[0m\n",
            "\u001b[0;32m/usr/local/lib/python3.10/dist-packages/pandas/_libs/index.pyx\u001b[0m in \u001b[0;36mpandas._libs.index.IndexEngine.get_loc\u001b[0;34m()\u001b[0m\n",
            "\u001b[0;32m/usr/local/lib/python3.10/dist-packages/pandas/_libs/index.pyx\u001b[0m in \u001b[0;36mpandas._libs.index.IndexEngine.get_loc\u001b[0;34m()\u001b[0m\n",
            "\u001b[0;31mTypeError\u001b[0m: '(slice(None, None, None), 1)' is an invalid key",
            "\nDuring handling of the above exception, another exception occurred:\n",
            "\u001b[0;31mInvalidIndexError\u001b[0m                         Traceback (most recent call last)",
            "\u001b[0;32m<ipython-input-8-8e56e9cc56f6>\u001b[0m in \u001b[0;36m<cell line: 6>\u001b[0;34m()\u001b[0m\n\u001b[1;32m      4\u001b[0m restricciones = [\n\u001b[1;32m      5\u001b[0m   \u001b[0;31m# restricciones de minima operabilidad\u001b[0m\u001b[0;34m\u001b[0m\u001b[0;34m\u001b[0m\u001b[0m\n\u001b[0;32m----> 6\u001b[0;31m   \u001b[0mx\u001b[0m\u001b[0;34m[\u001b[0m\u001b[0;34m:\u001b[0m\u001b[0;34m,\u001b[0m\u001b[0;36m0\u001b[0m\u001b[0;34m]\u001b[0m \u001b[0;34m<=\u001b[0m \u001b[0mrest_2\u001b[0m\u001b[0;34m[\u001b[0m\u001b[0;34m:\u001b[0m\u001b[0;34m,\u001b[0m\u001b[0;36m1\u001b[0m\u001b[0;34m]\u001b[0m\u001b[0;34m,\u001b[0m\u001b[0;34m\u001b[0m\u001b[0;34m\u001b[0m\u001b[0m\n\u001b[0m\u001b[1;32m      7\u001b[0m \u001b[0;34m\u001b[0m\u001b[0m\n\u001b[1;32m      8\u001b[0m   \u001b[0;31m# restricciones de maxima operatividad\u001b[0m\u001b[0;34m\u001b[0m\u001b[0;34m\u001b[0m\u001b[0m\n",
            "\u001b[0;32m/usr/local/lib/python3.10/dist-packages/pandas/core/frame.py\u001b[0m in \u001b[0;36m__getitem__\u001b[0;34m(self, key)\u001b[0m\n\u001b[1;32m   3805\u001b[0m             \u001b[0;32mif\u001b[0m \u001b[0mself\u001b[0m\u001b[0;34m.\u001b[0m\u001b[0mcolumns\u001b[0m\u001b[0;34m.\u001b[0m\u001b[0mnlevels\u001b[0m \u001b[0;34m>\u001b[0m \u001b[0;36m1\u001b[0m\u001b[0;34m:\u001b[0m\u001b[0;34m\u001b[0m\u001b[0;34m\u001b[0m\u001b[0m\n\u001b[1;32m   3806\u001b[0m                 \u001b[0;32mreturn\u001b[0m \u001b[0mself\u001b[0m\u001b[0;34m.\u001b[0m\u001b[0m_getitem_multilevel\u001b[0m\u001b[0;34m(\u001b[0m\u001b[0mkey\u001b[0m\u001b[0;34m)\u001b[0m\u001b[0;34m\u001b[0m\u001b[0;34m\u001b[0m\u001b[0m\n\u001b[0;32m-> 3807\u001b[0;31m             \u001b[0mindexer\u001b[0m \u001b[0;34m=\u001b[0m \u001b[0mself\u001b[0m\u001b[0;34m.\u001b[0m\u001b[0mcolumns\u001b[0m\u001b[0;34m.\u001b[0m\u001b[0mget_loc\u001b[0m\u001b[0;34m(\u001b[0m\u001b[0mkey\u001b[0m\u001b[0;34m)\u001b[0m\u001b[0;34m\u001b[0m\u001b[0;34m\u001b[0m\u001b[0m\n\u001b[0m\u001b[1;32m   3808\u001b[0m             \u001b[0;32mif\u001b[0m \u001b[0mis_integer\u001b[0m\u001b[0;34m(\u001b[0m\u001b[0mindexer\u001b[0m\u001b[0;34m)\u001b[0m\u001b[0;34m:\u001b[0m\u001b[0;34m\u001b[0m\u001b[0;34m\u001b[0m\u001b[0m\n\u001b[1;32m   3809\u001b[0m                 \u001b[0mindexer\u001b[0m \u001b[0;34m=\u001b[0m \u001b[0;34m[\u001b[0m\u001b[0mindexer\u001b[0m\u001b[0;34m]\u001b[0m\u001b[0;34m\u001b[0m\u001b[0;34m\u001b[0m\u001b[0m\n",
            "\u001b[0;32m/usr/local/lib/python3.10/dist-packages/pandas/core/indexes/base.py\u001b[0m in \u001b[0;36mget_loc\u001b[0;34m(self, key, method, tolerance)\u001b[0m\n\u001b[1;32m   3807\u001b[0m                 \u001b[0;31m#  InvalidIndexError. Otherwise we fall through and re-raise\u001b[0m\u001b[0;34m\u001b[0m\u001b[0;34m\u001b[0m\u001b[0m\n\u001b[1;32m   3808\u001b[0m                 \u001b[0;31m#  the TypeError.\u001b[0m\u001b[0;34m\u001b[0m\u001b[0;34m\u001b[0m\u001b[0m\n\u001b[0;32m-> 3809\u001b[0;31m                 \u001b[0mself\u001b[0m\u001b[0;34m.\u001b[0m\u001b[0m_check_indexing_error\u001b[0m\u001b[0;34m(\u001b[0m\u001b[0mkey\u001b[0m\u001b[0;34m)\u001b[0m\u001b[0;34m\u001b[0m\u001b[0;34m\u001b[0m\u001b[0m\n\u001b[0m\u001b[1;32m   3810\u001b[0m                 \u001b[0;32mraise\u001b[0m\u001b[0;34m\u001b[0m\u001b[0;34m\u001b[0m\u001b[0m\n\u001b[1;32m   3811\u001b[0m \u001b[0;34m\u001b[0m\u001b[0m\n",
            "\u001b[0;32m/usr/local/lib/python3.10/dist-packages/pandas/core/indexes/base.py\u001b[0m in \u001b[0;36m_check_indexing_error\u001b[0;34m(self, key)\u001b[0m\n\u001b[1;32m   5923\u001b[0m             \u001b[0;31m# if key is not a scalar, directly raise an error (the code below\u001b[0m\u001b[0;34m\u001b[0m\u001b[0;34m\u001b[0m\u001b[0m\n\u001b[1;32m   5924\u001b[0m             \u001b[0;31m# would convert to numpy arrays and raise later any way) - GH29926\u001b[0m\u001b[0;34m\u001b[0m\u001b[0;34m\u001b[0m\u001b[0m\n\u001b[0;32m-> 5925\u001b[0;31m             \u001b[0;32mraise\u001b[0m \u001b[0mInvalidIndexError\u001b[0m\u001b[0;34m(\u001b[0m\u001b[0mkey\u001b[0m\u001b[0;34m)\u001b[0m\u001b[0;34m\u001b[0m\u001b[0;34m\u001b[0m\u001b[0m\n\u001b[0m\u001b[1;32m   5926\u001b[0m \u001b[0;34m\u001b[0m\u001b[0m\n\u001b[1;32m   5927\u001b[0m     \u001b[0;34m@\u001b[0m\u001b[0mcache_readonly\u001b[0m\u001b[0;34m\u001b[0m\u001b[0;34m\u001b[0m\u001b[0m\n",
            "\u001b[0;31mInvalidIndexError\u001b[0m: (slice(None, None, None), 1)"
          ]
        }
      ]
    },
    {
      "cell_type": "markdown",
      "source": [
        "# Estructuración del problema"
      ],
      "metadata": {
        "id": "mapOEaHp4spo"
      }
    },
    {
      "cell_type": "code",
      "source": [
        "# Escriba acá el código para estructurar el problema\n",
        "problem = cvx.Problem(objetivo,restricciones)"
      ],
      "metadata": {
        "id": "_PP37Uwk4zEH"
      },
      "execution_count": null,
      "outputs": []
    },
    {
      "cell_type": "markdown",
      "source": [
        "# Solución del problema"
      ],
      "metadata": {
        "id": "oZ-WyfnK5b0q"
      }
    },
    {
      "cell_type": "code",
      "source": [
        "# Escriba acá el código para solucionar el problema\n",
        "problem.solve()\n",
        "#y mostrar el estado de la solución\n",
        "print(problem.status)"
      ],
      "metadata": {
        "id": "XcEAnYeN5ghW"
      },
      "execution_count": null,
      "outputs": []
    },
    {
      "cell_type": "markdown",
      "source": [
        "# Resultados"
      ],
      "metadata": {
        "id": "DVM2YTa85uAL"
      }
    },
    {
      "cell_type": "markdown",
      "source": [
        "## Muestre el valor óptimo de la función objetivo"
      ],
      "metadata": {
        "id": "b1hXeVCU5Olr"
      }
    },
    {
      "cell_type": "code",
      "source": [
        "# Escriba acá el código para mostrar el valor óptimo de la función objetivo\n",
        "print('Costos minimo de produccion =', problem.value)"
      ],
      "metadata": {
        "id": "QMHUuOex5w-T"
      },
      "execution_count": null,
      "outputs": []
    },
    {
      "cell_type": "markdown",
      "source": [
        "## Muestre los valores óptimos de las variables de decisión, junto con sus unidades."
      ],
      "metadata": {
        "id": "3sWBBG6i5DvP"
      }
    },
    {
      "cell_type": "code",
      "source": [
        "# Escriba acá el código para mostrar los valores óptimos de las variables de\n",
        "# decisión, junto con sus unidades\n",
        "print(np.round(x.value))"
      ],
      "metadata": {
        "id": "o5MI0MPk5JrG"
      },
      "execution_count": null,
      "outputs": []
    },
    {
      "cell_type": "markdown",
      "source": [
        "# Fuentes de datos"
      ],
      "metadata": {
        "id": "ZniPABWy6Fn6"
      }
    },
    {
      "cell_type": "markdown",
      "source": [
        "### Los datos fueron prestados con la autorisacion del propietario de la Panaderia La Hormiga"
      ],
      "metadata": {
        "id": "S5DNUTto6IUw"
      }
    }
  ]
}